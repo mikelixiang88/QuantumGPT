{
 "cells": [
  {
   "cell_type": "markdown",
   "id": "727cc406-543a-4462-9a3f-d4e0afd499bc",
   "metadata": {},
   "source": [
    "## Parse and Plot"
   ]
  },
  {
   "cell_type": "code",
   "execution_count": 1,
   "id": "86d41d3a-eff4-4324-97db-1051e3c3a78a",
   "metadata": {},
   "outputs": [
    {
     "ename": "TypeError",
     "evalue": "'float' object cannot be interpreted as an integer",
     "output_type": "error",
     "traceback": [
      "\u001b[0;31m---------------------------------------------------------------------------\u001b[0m",
      "\u001b[0;31mTypeError\u001b[0m                                 Traceback (most recent call last)",
      "Cell \u001b[0;32mIn[1], line 42\u001b[0m\n\u001b[1;32m     39\u001b[0m graded_json_file_path \u001b[38;5;241m=\u001b[39m \u001b[38;5;124m'\u001b[39m\u001b[38;5;124mgraded_GPT4.json\u001b[39m\u001b[38;5;124m'\u001b[39m\n\u001b[1;32m     41\u001b[0m \u001b[38;5;66;03m# Parse the JSON file and plot distributions\u001b[39;00m\n\u001b[0;32m---> 42\u001b[0m category_stats \u001b[38;5;241m=\u001b[39m \u001b[43mparse_and_plot\u001b[49m\u001b[43m(\u001b[49m\u001b[43mgraded_json_file_path\u001b[49m\u001b[43m)\u001b[49m\n",
      "Cell \u001b[0;32mIn[1], line 32\u001b[0m, in \u001b[0;36mparse_and_plot\u001b[0;34m(file_path)\u001b[0m\n\u001b[1;32m     30\u001b[0m     grades, mean, std_dev \u001b[38;5;241m=\u001b[39m calculate_stats(quiz_data, category)\n\u001b[1;32m     31\u001b[0m     stats[category] \u001b[38;5;241m=\u001b[39m {\u001b[38;5;124m'\u001b[39m\u001b[38;5;124mmean\u001b[39m\u001b[38;5;124m'\u001b[39m: mean, \u001b[38;5;124m'\u001b[39m\u001b[38;5;124mstd_dev\u001b[39m\u001b[38;5;124m'\u001b[39m: std_dev}\n\u001b[0;32m---> 32\u001b[0m     \u001b[43mplot_distribution\u001b[49m\u001b[43m(\u001b[49m\u001b[43mquiz_data\u001b[49m\u001b[43m,\u001b[49m\u001b[43m \u001b[49m\u001b[43mcategory\u001b[49m\u001b[43m,\u001b[49m\u001b[43m \u001b[49m\u001b[43mgrades\u001b[49m\u001b[43m)\u001b[49m\n\u001b[1;32m     34\u001b[0m     \u001b[38;5;28mprint\u001b[39m(\u001b[38;5;124mf\u001b[39m\u001b[38;5;124m\"\u001b[39m\u001b[38;5;132;01m{\u001b[39;00mcategory\u001b[38;5;132;01m}\u001b[39;00m\u001b[38;5;124m - Mean: \u001b[39m\u001b[38;5;132;01m{\u001b[39;00mmean\u001b[38;5;132;01m:\u001b[39;00m\u001b[38;5;124m.2f\u001b[39m\u001b[38;5;132;01m}\u001b[39;00m\u001b[38;5;124m, Standard Deviation: \u001b[39m\u001b[38;5;132;01m{\u001b[39;00mstd_dev\u001b[38;5;132;01m:\u001b[39;00m\u001b[38;5;124m.2f\u001b[39m\u001b[38;5;132;01m}\u001b[39;00m\u001b[38;5;124m\"\u001b[39m)\n\u001b[1;32m     36\u001b[0m \u001b[38;5;28;01mreturn\u001b[39;00m stats\n",
      "Cell \u001b[0;32mIn[1], line 14\u001b[0m, in \u001b[0;36mplot_distribution\u001b[0;34m(data, category, grades)\u001b[0m\n\u001b[1;32m     12\u001b[0m \u001b[38;5;28;01mdef\u001b[39;00m \u001b[38;5;21mplot_distribution\u001b[39m(data, category, grades):\n\u001b[1;32m     13\u001b[0m     plt\u001b[38;5;241m.\u001b[39mfigure(figsize\u001b[38;5;241m=\u001b[39m(\u001b[38;5;241m10\u001b[39m, \u001b[38;5;241m6\u001b[39m))\n\u001b[0;32m---> 14\u001b[0m     plt\u001b[38;5;241m.\u001b[39mhist(grades, bins\u001b[38;5;241m=\u001b[39m\u001b[38;5;28;43mrange\u001b[39;49m\u001b[43m(\u001b[49m\u001b[38;5;28;43mmin\u001b[39;49m\u001b[43m(\u001b[49m\u001b[43mgrades\u001b[49m\u001b[43m)\u001b[49m\u001b[43m,\u001b[49m\u001b[43m \u001b[49m\u001b[38;5;28;43mmax\u001b[39;49m\u001b[43m(\u001b[49m\u001b[43mgrades\u001b[49m\u001b[43m)\u001b[49m\u001b[43m \u001b[49m\u001b[38;5;241;43m+\u001b[39;49m\u001b[43m \u001b[49m\u001b[38;5;241;43m1\u001b[39;49m\u001b[43m,\u001b[49m\u001b[43m \u001b[49m\u001b[38;5;241;43m1\u001b[39;49m\u001b[43m)\u001b[49m, alpha\u001b[38;5;241m=\u001b[39m\u001b[38;5;241m0.7\u001b[39m)\n\u001b[1;32m     15\u001b[0m     plt\u001b[38;5;241m.\u001b[39mtitle(\u001b[38;5;124mf\u001b[39m\u001b[38;5;124m'\u001b[39m\u001b[38;5;124mScore Distribution for \u001b[39m\u001b[38;5;132;01m{\u001b[39;00mcategory\u001b[38;5;132;01m}\u001b[39;00m\u001b[38;5;124m'\u001b[39m)\n\u001b[1;32m     16\u001b[0m     plt\u001b[38;5;241m.\u001b[39mxlabel(\u001b[38;5;124m'\u001b[39m\u001b[38;5;124mScores\u001b[39m\u001b[38;5;124m'\u001b[39m)\n",
      "\u001b[0;31mTypeError\u001b[0m: 'float' object cannot be interpreted as an integer"
     ]
    },
    {
     "data": {
      "text/plain": [
       "<Figure size 1000x600 with 0 Axes>"
      ]
     },
     "metadata": {},
     "output_type": "display_data"
    }
   ],
   "source": [
    "import json\n",
    "import numpy as np\n",
    "import matplotlib.pyplot as plt\n",
    "\n",
    "def calculate_stats(data, key):\n",
    "    # Extract the grades for the given key and convert them to float\n",
    "    grades = [float(item[key]['grade']) for item in data if key in item]\n",
    "    mean = np.mean(grades)\n",
    "    std_dev = np.std(grades)\n",
    "    return grades, mean, std_dev\n",
    "\n",
    "def plot_distribution(data, category, grades):\n",
    "    plt.figure(figsize=(10, 6))\n",
    "    # Convert grades to integers for histogram bin edges if necessary\n",
    "    bin_edges = np.arange(int(min(grades)), int(max(grades)) + 2) - 0.5\n",
    "    plt.hist(grades, bins=bin_edges, alpha=0.7, edgecolor='black')\n",
    "    plt.title(f'Score Distribution for {category}')\n",
    "    plt.xlabel('Scores')\n",
    "    plt.ylabel('Frequency')\n",
    "    plt.grid(axis='y', alpha=0.75)\n",
    "    plt.xticks(np.arange(int(min(grades)), int(max(grades)) + 1))\n",
    "    plt.show()\n",
    "\n",
    "def parse_and_plot(file_path):\n",
    "    with open(file_path, 'r', encoding='utf-8') as file:\n",
    "        quiz_data = json.load(file)\n",
    "        \n",
    "    categories = ['No_hint', 'Hint1', 'Hint2', 'Hint3']\n",
    "    stats = {}\n",
    "    \n",
    "    for category in categories:\n",
    "        grades, mean, std_dev = calculate_stats(quiz_data, category)\n",
    "        stats[category] = {'mean': mean, 'std_dev': std_dev}\n",
    "        plot_distribution(quiz_data, category, grades)\n",
    "        \n",
    "        print(f\"{category} - Mean: {mean:.2f}, Standard Deviation: {std_dev:.2f}\")\n",
    "\n",
    "    return stats\n",
    "\n",
    "# Path to the JSON file with graded hints\n",
    "graded_json_file_path = 'graded_GPT4.json'\n",
    "\n",
    "# Parse the JSON file and plot distributions\n",
    "category_stats = parse_and_plot(graded_json_file_path)\n"
   ]
  },
  {
   "cell_type": "code",
   "execution_count": null,
   "id": "5a095016-41b4-4614-80ca-f9e59639a9a8",
   "metadata": {},
   "outputs": [],
   "source": []
  }
 ],
 "metadata": {
  "kernelspec": {
   "display_name": "Python 3 (ipykernel)",
   "language": "python",
   "name": "python3"
  },
  "language_info": {
   "codemirror_mode": {
    "name": "ipython",
    "version": 3
   },
   "file_extension": ".py",
   "mimetype": "text/x-python",
   "name": "python",
   "nbconvert_exporter": "python",
   "pygments_lexer": "ipython3",
   "version": "3.10.11"
  }
 },
 "nbformat": 4,
 "nbformat_minor": 5
}
