{
 "cells": [
  {
   "cell_type": "markdown",
   "id": "293b2a09-0957-4bd9-803f-4a008baf4dc7",
   "metadata": {},
   "source": [
    "## Parser"
   ]
  },
  {
   "cell_type": "code",
   "execution_count": null,
   "id": "bdf6fe52-69e8-493f-b1d6-666b2bc8abae",
   "metadata": {},
   "outputs": [],
   "source": [
    "import csv\n",
    "import json\n",
    "\n",
    "# Function to convert CSV to JSON\n",
    "def convert_csv_to_json(csv_filepath, json_filepath):\n",
    "    # Create a list to hold the data\n",
    "    quiz_data = []\n",
    "\n",
    "    # Open the CSV\n",
    "    with open(csv_filepath, mode='r', encoding='utf-8') as csv_file:\n",
    "        # Create a CSV reader object\n",
    "        csv_reader = csv.DictReader(csv_file)\n",
    "        \n",
    "        # Iterate over the CSV rows\n",
    "        for row in csv_reader:\n",
    "            # Append the row to the list\n",
    "            quiz_data.append(row)\n",
    "    \n",
    "    # Open the JSON file and write the data\n",
    "    with open(json_filepath, mode='w', encoding='utf-8') as json_file:\n",
    "        # Convert the list to JSON\n",
    "        json_file.write(json.dumps(quiz_data, indent=4))\n",
    "\n",
    "# File paths (you can change these to the actual file paths)\n",
    "csv_filepath = 'quantum_bank.csv'\n",
    "json_filepath = 'quantum_bank.json'\n",
    "\n",
    "# Convert CSV to JSON\n",
    "convert_csv_to_json(csv_filepath, json_filepath)\n"
   ]
  }
 ],
 "metadata": {
  "kernelspec": {
   "display_name": "Python 3 (ipykernel)",
   "language": "python",
   "name": "python3"
  },
  "language_info": {
   "codemirror_mode": {
    "name": "ipython",
    "version": 3
   },
   "file_extension": ".py",
   "mimetype": "text/x-python",
   "name": "python",
   "nbconvert_exporter": "python",
   "pygments_lexer": "ipython3",
   "version": "3.10.11"
  }
 },
 "nbformat": 4,
 "nbformat_minor": 5
}
