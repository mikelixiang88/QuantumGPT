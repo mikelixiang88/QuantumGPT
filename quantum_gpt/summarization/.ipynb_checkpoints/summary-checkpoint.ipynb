{
 "cells": [
  {
   "cell_type": "code",
   "execution_count": 41,
   "metadata": {},
   "outputs": [],
   "source": [
    "import pandas as pd\n",
    "import numpy as np"
   ]
  },
  {
   "cell_type": "markdown",
   "metadata": {},
   "source": [
    "# Get data"
   ]
  },
  {
   "cell_type": "code",
   "execution_count": 42,
   "metadata": {},
   "outputs": [],
   "source": [
    "questions_df = pd.read_csv(\"New_grader/quantum_bank.csv\")\n",
    "questions = list(questions_df[\"Question\"])\n",
    "answers = list(questions_df[\"Answer\"])\n",
    "hint1 = list(questions_df[\"Hint1\"])\n",
    "hint2 = list(questions_df[\"Hint2\"])\n",
    "hint3 = list(questions_df[\"Hint3\"])\n",
    "index = list(questions_df[\"Index\"])\n",
    "hints = hint1 + hint2 + hint3"
   ]
  },
  {
   "cell_type": "markdown",
   "metadata": {},
   "source": [
    "# BART"
   ]
  },
  {
   "cell_type": "code",
   "execution_count": 43,
   "metadata": {},
   "outputs": [],
   "source": [
    "# Use a pipeline as a high-level helper\n",
    "from transformers import pipeline\n",
    "pipe = pipeline(\"summarization\", model=\"facebook/bart-large-cnn\",)"
   ]
  },
  {
   "cell_type": "code",
   "execution_count": 57,
   "metadata": {},
   "outputs": [],
   "source": [
    "from transformers import BartTokenizer, BartForConditionalGeneration"
   ]
  },
  {
   "cell_type": "code",
   "execution_count": 65,
   "metadata": {},
   "outputs": [
    {
     "name": "stdout",
     "output_type": "stream",
     "text": [
      "Show that the probability of getting spin up (along b) in the first measurement is P_+=cos^2(\\theta_{ab}/2) Find the other three probabilities (P+−, P++, and P−+) Beware: If the outcome of the first measurements was spin down, the relevant angle is now the supplement of θbc.\n",
      "Show that the probability of getting spin up (along b) in the first measurement is P_+=cos^2(\\theta_{ab}/2), and (by extension) the probability of getting spin up in both measurements is P_{++}=cos^2(\\theta_{ab}/2)cos^2(\\theta_{bc}/2). Find the other three probabilities (P_{+−}, P_{−+}, and P_{−−}). Beware: If the outcome of the first measurement was spin down, the relevant angle is now the supplement of θbc.\n"
     ]
    }
   ],
   "source": [
    "tokenizer = BartTokenizer.from_pretrained('facebook/bart-large-cnn')\n",
    "model = BartForConditionalGeneration.from_pretrained('facebook/bart-large-cnn')\n",
    "\n",
    "input_text = hint1[1]\n",
    "\n",
    "# Tokenize input text and calculate its length\n",
    "inputs = tokenizer(input_text, return_tensors='pt', max_length=1024, truncation=True)\n",
    "input_length = len(inputs['input_ids'][0])\n",
    "\n",
    "# Set max_length for summarization dynamically\n",
    "# For example, setting it to half of the input length\n",
    "max_length_for_summarization = max(12, min(22, input_length // 2))\n",
    "\n",
    "# Generate summary\n",
    "summary_ids = model.generate(inputs['input_ids'], max_length=len(inputs['input_ids'][0]))\n",
    "summary = tokenizer.decode(summary_ids[0], skip_special_tokens=True)\n",
    "\n",
    "print(summary)\n",
    "print(hint1[1])"
   ]
  },
  {
   "cell_type": "code",
   "execution_count": 68,
   "metadata": {},
   "outputs": [],
   "source": [
    "\n",
    "def get_summary(hints):\n",
    "    summaries = []\n",
    "    for idx,hint in enumerate(hints):\n",
    "        hint_token = tokenizer(hint, return_tensors='pt', max_length=1024, truncation=True)\n",
    "        hint_len   = len(hint_token['input_ids'][0])\n",
    "        summary_ids = model.generate(hint_token['input_ids'], max_length=hint_len)\n",
    "        summary = tokenizer.decode(summary_ids[0], skip_special_tokens=True)\n",
    "        summaries.append(summary)\n",
    "    return summaries\n",
    "\n",
    "hint1_summary = get_summary(hint1)\n",
    "hint2_summary = get_summary(hint2)\n",
    "hint3_summary = get_summary(hint3)\n"
   ]
  },
  {
   "cell_type": "code",
   "execution_count": 69,
   "metadata": {},
   "outputs": [],
   "source": [
    "df = pd.DataFrame({\n",
    "    \"Question\":questions,\n",
    "    \"Answer\":answers,\n",
    "    \"Hint1\":hint1,\n",
    "    \"Hint1_summary\":hint1_summary,\n",
    "    \"Hint2\":hint2,\n",
    "    \"Hint2_summary\":hint2_summary,\n",
    "    \"Hint3\":hint3,\n",
    "    \"Hint3_summary\":hint3_summary,\n",
    "    \"Index\":index\n",
    "})"
   ]
  },
  {
   "cell_type": "code",
   "execution_count": 70,
   "metadata": {},
   "outputs": [],
   "source": [
    "df.to_csv(\"New_grader/quantum_bank_summary.csv\",index=False)"
   ]
  },
  {
   "cell_type": "code",
   "execution_count": 76,
   "metadata": {},
   "outputs": [],
   "source": [
    "import json\n",
    "f_sum = open(\"New_grader/auto_graded_GPT4_sum.json\")\n",
    "f     = open(\"New_grader/auto_graded_GPT4.json\")\n",
    "sum_result = json.load(f_sum)\n",
    "result     = json.load(f)"
   ]
  },
  {
   "cell_type": "code",
   "execution_count": 79,
   "metadata": {},
   "outputs": [
    {
     "name": "stdout",
     "output_type": "stream",
     "text": [
      "Question:  1\n",
      "No hint:  7  No hint Summary:  7\n",
      "Hint1:  7  Hint1 Summary:  7\n",
      "Hint2:  6  Hint2 Summary:  4\n",
      "Hint3:  7  Hint3 Summary:  10\n",
      "Question:  2\n",
      "No hint:  6  No hint Summary:  6\n",
      "Hint1:  10  Hint1 Summary:  7\n",
      "Hint2:  7  Hint2 Summary:  9\n",
      "Hint3:  7  Hint3 Summary:  10\n",
      "Question:  3\n",
      "No hint:  6  No hint Summary:  7\n",
      "Hint1:  7  Hint1 Summary:  7\n",
      "Hint2:  7  Hint2 Summary:  7\n",
      "Hint3:  7  Hint3 Summary:  7\n",
      "Question:  4\n",
      "No hint:  10  No hint Summary:  10\n",
      "Hint1:  7  Hint1 Summary:  10\n",
      "Hint2:  10  Hint2 Summary:  10\n",
      "Hint3:  7  Hint3 Summary:  9\n",
      "Question:  5\n",
      "No hint:  9  No hint Summary:  10\n",
      "Hint1:  10  Hint1 Summary:  10\n",
      "Hint2:  7  Hint2 Summary:  7\n",
      "Hint3:  9  Hint3 Summary:  7\n",
      "Question:  6\n",
      "No hint:  7  No hint Summary:  4\n",
      "Hint1:  10  Hint1 Summary:  7\n",
      "Hint2:  10  Hint2 Summary:  7\n",
      "Hint3:  7  Hint3 Summary:  4\n",
      "Question:  7\n",
      "No hint:  6  No hint Summary:  7\n",
      "Hint1:  7  Hint1 Summary:  7\n",
      "Hint2:  7  Hint2 Summary:  6\n",
      "Hint3:  7  Hint3 Summary:  7\n",
      "Question:  8\n",
      "No hint:  4  No hint Summary:  5\n",
      "Hint1:  6  Hint1 Summary:  1\n",
      "Hint2:  4  Hint2 Summary:  4\n",
      "Hint3:  4  Hint3 Summary:  4\n",
      "Question:  9\n",
      "No hint:  6  No hint Summary:  6\n",
      "Hint1:  4  Hint1 Summary:  4\n",
      "Hint2:  4  Hint2 Summary:  5\n",
      "Hint3:  6  Hint3 Summary:  7\n",
      "Question:  10\n",
      "No hint:  5  No hint Summary:  6\n",
      "Hint1:  6  Hint1 Summary:  4\n",
      "Hint2:  4  Hint2 Summary:  7\n",
      "Hint3:  7  Hint3 Summary:  6\n"
     ]
    }
   ],
   "source": [
    "for i in range(len(result)):\n",
    "    print(\"Question: \",i+1)\n",
    "    no_hint = result[i][\"No_hint\"]['grade']\n",
    "    hint1   = result[i][\"Hint1\"]['grade']\n",
    "    hint2   = result[i][\"Hint2\"]['grade']\n",
    "    hint3   = result[i][\"Hint3\"]['grade']\n",
    "    sum_no_hint = sum_result[i][\"No_hint\"]['grade']\n",
    "    sum_hint1   = sum_result[i][\"Hint1_summary\"]['grade']\n",
    "    sum_hint2   = sum_result[i][\"Hint2_summary\"]['grade']\n",
    "    sum_hint3   = sum_result[i][\"Hint3_summary\"]['grade']\n",
    "    print(\"No hint: \",no_hint,\" No hint Summary: \",sum_no_hint)\n",
    "    print(\"Hint1: \",hint1,\" Hint1 Summary: \",sum_hint1)\n",
    "    print(\"Hint2: \",hint2,\" Hint2 Summary: \",sum_hint2)\n",
    "    print(\"Hint3: \",hint3,\" Hint3 Summary: \",sum_hint3)"
   ]
  },
  {
   "cell_type": "code",
   "execution_count": null,
   "metadata": {},
   "outputs": [],
   "source": []
  }
 ],
 "metadata": {
  "kernelspec": {
   "display_name": "env",
   "language": "python",
   "name": "python3"
  },
  "language_info": {
   "codemirror_mode": {
    "name": "ipython",
    "version": 3
   },
   "file_extension": ".py",
   "mimetype": "text/x-python",
   "name": "python",
   "nbconvert_exporter": "python",
   "pygments_lexer": "ipython3",
   "version": "3.11.5"
  }
 },
 "nbformat": 4,
 "nbformat_minor": 2
}
